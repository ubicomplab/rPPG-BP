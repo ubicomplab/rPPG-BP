{
 "cells": [
  {
   "cell_type": "code",
   "execution_count": 23,
   "id": "a9f8acb4",
   "metadata": {},
   "outputs": [],
   "source": [
    "import glob\n",
    "import os\n",
    "import pprint"
   ]
  },
  {
   "cell_type": "code",
   "execution_count": 30,
   "id": "9bac391b",
   "metadata": {},
   "outputs": [],
   "source": [
    "def sort_value_dict(x):\n",
    "    return {k: v for k, v in sorted(x.items(), key=lambda item: item[1])}"
   ]
  },
  {
   "cell_type": "code",
   "execution_count": 26,
   "id": "dfa6f460",
   "metadata": {},
   "outputs": [],
   "source": [
    "p25_p37 = glob.glob(r'D:\\OneDrive - UW\\rPPG Clinical Study\\UW Medicine Data\\ProComp Txt\\p25-p37\\*.txt')\n",
    "                    "
   ]
  },
  {
   "cell_type": "code",
   "execution_count": 36,
   "id": "ad55a566",
   "metadata": {},
   "outputs": [
    {
     "name": "stdout",
     "output_type": "stream",
     "text": [
      "['59202294401', '59202294041', '592022170732', '592022170407', '592022164900', '592022164530', '592022161824', '592022161424', '592022155102', '592022154732', '592022143816', '592022143509', '592022141701', '592022141347', '592022115408', '592022115056', '592022101241', '592022100904', '5102022171924', '5102022171537', '5102022165651', '5102022165112', '5102022143342', '5102022143004', '5102022140925', '5102022140533']\n"
     ]
    }
   ],
   "source": [
    "sort_date = {}\n",
    "for txt_path in p25_p37:\n",
    "    txt_basename = os.path.basename(txt_path)\n",
    "    timezone = txt_basename.split('.')[0][-2:]\n",
    "    date = txt_basename.split(' ')[1]\n",
    "    time = txt_basename.split(' ')[2]\n",
    "    hour = time.split('_')[0]\n",
    "    min_stamp = time.split('_')[1]\n",
    "    second_stamp = time.split('_')[2]\n",
    "    if timezone == 'PM' and int(hour) < 12:\n",
    "        hour = int(hour) + 12\n",
    "    new_time = f'{date}_{hour}_{min_stamp}_{second_stamp}'\n",
    "    new_time = new_time.replace('_', '')\n",
    "    sort_date[txt_path] = new_time\n",
    "\n",
    "all_new_times = sort_date.values()\n",
    "print(sorted(all_new_times, reverse=True))"
   ]
  },
  {
   "cell_type": "code",
   "execution_count": null,
   "id": "da940ec5",
   "metadata": {},
   "outputs": [],
   "source": []
  }
 ],
 "metadata": {
  "kernelspec": {
   "display_name": "rppg_clinical",
   "language": "python",
   "name": "rppg_clinical"
  },
  "language_info": {
   "codemirror_mode": {
    "name": "ipython",
    "version": 3
   },
   "file_extension": ".py",
   "mimetype": "text/x-python",
   "name": "python",
   "nbconvert_exporter": "python",
   "pygments_lexer": "ipython3",
   "version": "3.7.13"
  }
 },
 "nbformat": 4,
 "nbformat_minor": 5
}
