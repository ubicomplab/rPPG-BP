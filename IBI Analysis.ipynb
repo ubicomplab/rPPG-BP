{
 "cells": [
  {
   "cell_type": "code",
   "execution_count": 500,
   "id": "ed33f77d",
   "metadata": {},
   "outputs": [],
   "source": [
    "import scipy.io\n",
    "import numpy as np\n",
    "from matplotlib import pyplot as plt\n",
    "import glob\n",
    "from scipy.signal import butter\n",
    "import scipy\n",
    "from hrvanalysis import remove_outliers, remove_ectopic_beats, interpolate_nan_values\n",
    "from scipy import stats\n",
    "import os\n",
    "from scipy.sparse import spdiags"
   ]
  },
  {
   "cell_type": "markdown",
   "id": "afdca712",
   "metadata": {},
   "source": [
    "### Detrend signal"
   ]
  },
  {
   "cell_type": "code",
   "execution_count": 501,
   "id": "b51d8833",
   "metadata": {},
   "outputs": [],
   "source": [
    "def detrend(signal, Lambda):\n",
    "    signal_length = signal.shape[0]\n",
    "    # observation matrix\n",
    "    H = np.identity(signal_length)\n",
    "    # second-order difference matrix\n",
    "    ones = np.ones(signal_length)\n",
    "    minus_twos = -2 * np.ones(signal_length)\n",
    "    diags_data = np.array([ones, minus_twos, ones])\n",
    "    diags_index = np.array([0, 1, 2])\n",
    "    D = spdiags(diags_data, diags_index, (signal_length - 2), signal_length).toarray()\n",
    "    filtered_signal = np.dot((H - np.linalg.inv(H + (Lambda ** 2) * np.dot(D.T, D))), signal)\n",
    "    return filtered_signal\n"
   ]
  },
  {
   "cell_type": "markdown",
   "id": "77c6f884",
   "metadata": {},
   "source": [
    "### Read mat files"
   ]
  },
  {
   "cell_type": "code",
   "execution_count": 502,
   "id": "55181ab7",
   "metadata": {},
   "outputs": [],
   "source": [
    "onedrive_path = r'D:\\OneDrive - UW\\rPPG Clinical Study\\UW Medicine Data'\n",
    "all_mat_path = sorted(glob.glob(onedrive_path + \"\\ProcessedDataNoVideo\\*.mat\"))"
   ]
  },
  {
   "cell_type": "markdown",
   "id": "c0cf35df",
   "metadata": {},
   "source": [
    "### Remove artifacts"
   ]
  },
  {
   "cell_type": "code",
   "execution_count": 503,
   "id": "79190cce",
   "metadata": {},
   "outputs": [],
   "source": [
    "def remove_artifact(ppg):\n",
    "    ppgmean = np.mean(ppg)\n",
    "    ppgstddev = np.std(ppg[:200])\n",
    "    f1 = np.where(ppg < ppgmean + 3 *ppgstddev)[0]\n",
    "    f2 = np.where(ppg > ppgmean - 3 *ppgstddev)[0]\n",
    "    f = np.intersect1d(f1, f2)\n",
    "    return np.take(ppg, f)"
   ]
  },
  {
   "cell_type": "markdown",
   "id": "6138a649",
   "metadata": {},
   "source": [
    "### Filter"
   ]
  },
  {
   "cell_type": "code",
   "execution_count": 504,
   "id": "bc8578d3",
   "metadata": {},
   "outputs": [],
   "source": [
    "def filter_ppg(ppg, fs=60, lpf=0.7, hpf=4):    \n",
    "    nyquistf = 1 / 2 * fs\n",
    "    [b_pulse, a_pulse] = butter(3, [lpf / nyquistf, hpf/nyquistf], btype='bandpass')\n",
    "    return scipy.signal.filtfilt(b_pulse, a_pulse, np.double(ppg))"
   ]
  },
  {
   "cell_type": "markdown",
   "id": "98cd368c",
   "metadata": {},
   "source": [
    "## Normalization"
   ]
  },
  {
   "cell_type": "code",
   "execution_count": 505,
   "id": "a99563af",
   "metadata": {},
   "outputs": [],
   "source": [
    "def normalize_ppg(ppg):\n",
    "    ppg = ppg - np.min(ppg)\n",
    "    ppg = ppg / np.max(ppg)\n",
    "    return ppg"
   ]
  },
  {
   "cell_type": "markdown",
   "id": "c290db8d",
   "metadata": {},
   "source": [
    "### Find peaks"
   ]
  },
  {
   "cell_type": "code",
   "execution_count": 506,
   "id": "3b0ed198",
   "metadata": {},
   "outputs": [],
   "source": [
    "def find_peaks(ppg, height=0.6):\n",
    "    peaks, _ = scipy.signal.find_peaks(ppg, height=height, distance=20)\n",
    "    return peaks"
   ]
  },
  {
   "cell_type": "markdown",
   "id": "6e668d86",
   "metadata": {},
   "source": [
    "### Remove ectopic beats"
   ]
  },
  {
   "cell_type": "code",
   "execution_count": 507,
   "id": "e1514432",
   "metadata": {},
   "outputs": [],
   "source": [
    "def remove_ectopic(ppg_peaks):\n",
    "    rr_intervals_list = np.diff(ppg_peaks)\n",
    "    # # This remove ectopic beats from signal\n",
    "    nn_intervals_list = remove_ectopic_beats(rr_intervals=rr_intervals_list, method=\"malik\")\n",
    "    # This replace ectopic beats nan values with linear interpolation\n",
    "    interpolated_nn_intervals = interpolate_nan_values(rr_intervals=nn_intervals_list)\n",
    "    return np.cumsum(interpolated_nn_intervals).astype(np.int)"
   ]
  },
  {
   "cell_type": "markdown",
   "id": "33bdf753",
   "metadata": {},
   "source": [
    "### Test"
   ]
  },
  {
   "cell_type": "code",
   "execution_count": 508,
   "id": "00007b2e",
   "metadata": {},
   "outputs": [],
   "source": [
    "# mat = scipy.io.loadmat(all_mat_path[12])\n",
    "# print(dir(mat))\n",
    "# test_face_ppg = mat['ppg_face'][0]\n",
    "# test_ppg = 1 - mat['ppg'][0]\n",
    "# test_ppg = detrend(test_ppg, 100)\n",
    "# test_ecg = mat['ekg'][0]\n",
    "# cutoff = 3000\n",
    "# test_face_ppg = normalize_ppg(filter_ppg(remove_artifact(test_face_ppg)))[:cutoff]\n",
    "# test_ppg = normalize_ppg(filter_ppg(remove_artifact(test_ppg)))[:cutoff]\n",
    "# test_ecg = normalize_ppg(test_ecg[:cutoff])\n",
    "# print(test_ppg.shape)\n",
    "# peaks_face_ppg = find_peaks(test_face_ppg)\n",
    "# peaks_ppg = find_peaks(test_ppg)\n",
    "# peaks_ecg = find_peaks(test_ecg)\n",
    "\n",
    "# # peaks_face_ppg = remove_ectopic(peaks_face_ppg)\n",
    "# # peaks_ppg = remove_ectopic(peaks_ppg)\n",
    "# plt.figure()\n",
    "# plt.plot(test_face_ppg)\n",
    "# plt.plot(peaks_face_ppg, test_face_ppg[peaks_face_ppg], \"x\")\n",
    "# plt.title('Face')\n",
    "# plt.show()\n",
    "\n",
    "# plt.figure()\n",
    "# plt.plot(test_ppg)\n",
    "# plt.plot(peaks_ppg, test_ppg[peaks_ppg], \"x\")\n",
    "# plt.title('Finger')\n",
    "# plt.show()\n",
    "\n",
    "# plt.figure()\n",
    "# plt.plot(test_ecg)\n",
    "# plt.plot(peaks_ecg, test_ecg[peaks_ecg], \"x\")\n",
    "# plt.title('ECG')\n",
    "# plt.show()"
   ]
  },
  {
   "cell_type": "markdown",
   "id": "35eb5f3e",
   "metadata": {},
   "source": [
    "### Calculate IBI"
   ]
  },
  {
   "cell_type": "code",
   "execution_count": 509,
   "id": "894975e8",
   "metadata": {},
   "outputs": [
    {
     "data": {
      "text/plain": [
       "'\\n1. detrend the finger ppg. \\n2. filter and clean the finger ppg.\\n3. calculate ecg hr vs. finger ppg hr vs. face hr.\\n4. sync video using rr-interval. Max deday should be around 10s. \\n'"
      ]
     },
     "execution_count": 509,
     "metadata": {},
     "output_type": "execute_result"
    }
   ],
   "source": [
    "'''\n",
    "1. detrend the finger ppg. \n",
    "2. filter and clean the finger ppg.\n",
    "3. calculate ecg hr vs. finger ppg hr vs. face hr.\n",
    "4. sync video using rr-interval. Max deday should be around 10s. \n",
    "'''"
   ]
  },
  {
   "cell_type": "code",
   "execution_count": 510,
   "id": "aec477ef",
   "metadata": {},
   "outputs": [],
   "source": [
    "def calcuate_window_ibi(finger_ppg, face_ppg, ecg, window_size=5, fs=60):\n",
    "#     finger_ppg = detrend(finger_ppg, 100)\n",
    "    face_ppg = normalize_ppg(filter_ppg(remove_artifact(face_ppg)))\n",
    "    finger_ppg = normalize_ppg(filter_ppg(remove_artifact(finger_ppg)))\n",
    "    ecg = normalize_ppg(ecg)\n",
    "    finger_hr = []\n",
    "    face_hr = []\n",
    "    ecg_hr = []\n",
    "    for idx in range(0, len(finger_ppg)-fs*window_size, fs*window_size):\n",
    "        window_finger_ppg = finger_ppg[idx:idx + fs * window_size]\n",
    "        window_face_ppg = face_ppg[idx:idx + fs * window_size]\n",
    "        window_ecg = ecg[idx:idx + fs * window_size]\n",
    "        window_peaks_finger_ppg = find_peaks(window_finger_ppg)\n",
    "        window_peaks_face_ppg = find_peaks(window_face_ppg)\n",
    "        window_peaks_ecg = find_peaks(window_ecg)\n",
    "        window_avg_hr_finger = 60 / (np.mean(np.diff(window_peaks_finger_ppg)) / fs)\n",
    "        window_avg_hr_face = 60 / (np.mean(np.diff(window_peaks_face_ppg)) / fs)\n",
    "        window_avg_hr_ecg = 60 / (np.mean(np.diff(window_peaks_ecg)) / fs)\n",
    "        finger_hr.append(window_avg_hr_finger)\n",
    "        face_hr.append(window_avg_hr_face)\n",
    "        ecg_hr.append(window_avg_hr_ecg)\n",
    "    return finger_hr, face_hr, ecg_hr\n",
    "\n",
    "def metrics_calculation(gt_hr, est_hr):\n",
    "    gt_hr, est_hr = np.array(gt_hr), np.array(est_hr)\n",
    "    mae = np.mean(np.abs(gt_hr - est_hr))\n",
    "    rmse = np.sqrt(np.mean((gt_hr - est_hr)**2))\n",
    "    mape = np.mean(np.abs(gt_hr - est_hr) / gt_hr)\n",
    "#     pearson = stats.pearsonr(finger_hr, face_hr)[0]\n",
    "    return mae, rmse, mape"
   ]
  },
  {
   "cell_type": "code",
   "execution_count": 511,
   "id": "e5bcb63b",
   "metadata": {
    "scrolled": false
   },
   "outputs": [
    {
     "name": "stdout",
     "output_type": "stream",
     "text": [
      "mat_path:  P005a.mat\n",
      "idx:  8\n",
      "MAE: 6.119516666236358, RMSE: 6.119516666236358, MAPE: 0.11506783474974348\n",
      "mat_path:  P005b.mat\n",
      "idx:  9\n",
      "MAE: 8.184694850412136, RMSE: 8.184694850412136, MAPE: 0.1603290780141844\n",
      "mat_path:  P013b.mat\n",
      "idx:  23\n",
      "MAE: 63.68595945386535, RMSE: 63.68595945386535, MAPE: 0.49259252015134436\n",
      "mat_path:  P015a.mat\n",
      "idx:  26\n",
      "MAE: 21.32118451025056, RMSE: 21.32118451025056, MAPE: 0.31044776119402967\n",
      "mat_path:  P016a.mat\n",
      "idx:  28\n",
      "MAE: 46.272758800069354, RMSE: 46.272758800069354, MAPE: 0.6820052136577387\n",
      "mat_path:  P017b.mat\n",
      "idx:  31\n",
      "MAE: 5.972831269436583, RMSE: 5.972831269436583, MAPE: 0.07817510517489913\n",
      "mat_path:  P019a.mat\n",
      "idx:  34\n",
      "MAE: 72.08213297611209, RMSE: 72.08213297611209, MAPE: 0.5175462325398387\n",
      "mat_path:  P019b.mat\n",
      "idx:  35\n",
      "MAE: 73.83857052517465, RMSE: 73.83857052517465, MAPE: 0.5213503482313356\n",
      "mat_path:  P022b.mat\n",
      "idx:  41\n",
      "MAE: 6.111720240539043, RMSE: 6.111720240539043, MAPE: 0.0981047989430789\n",
      "mat_path:  P026a.mat\n",
      "idx:  48\n",
      "MAE: 60.42987750771422, RMSE: 60.42987750771422, MAPE: 0.5044286693921243\n",
      "mat_path:  P026b.mat\n",
      "idx:  49\n",
      "MAE: 50.644297548322314, RMSE: 50.644297548322314, MAPE: 0.4543918918918919\n",
      "mat_path:  P030a.mat\n",
      "idx:  56\n",
      "MAE: 62.08773631013225, RMSE: 62.08773631013225, MAPE: 0.5009925064049289\n",
      "mat_path:  P030b.mat\n",
      "idx:  57\n",
      "MAE: 59.412014281707094, RMSE: 59.412014281707094, MAPE: 0.4915243959324564\n",
      "mat_path:  P031a.mat\n",
      "idx:  58\n",
      "MAE: 27.773545519296533, RMSE: 27.773545519296533, MAPE: 0.21298986083067364\n",
      "mat_path:  P031b.mat\n",
      "idx:  59\n",
      "MAE: 74.71725149850151, RMSE: 74.71725149850151, MAPE: 0.9415844914579093\n",
      "mat_path:  P032a.mat\n",
      "idx:  60\n",
      "MAE: 20.548808914805853, RMSE: 20.548808914805853, MAPE: 0.3677892161638469\n",
      "mat_path:  P032b.mat\n",
      "idx:  61\n",
      "MAE: 18.260718060701798, RMSE: 18.260718060701798, MAPE: 0.36246679946879146\n",
      "mat_path:  P034a.mat\n",
      "idx:  64\n",
      "MAE: 7.321764831038976, RMSE: 7.321764831038976, MAPE: 0.11220985945485513\n",
      "mat_path:  P034b.mat\n",
      "idx:  65\n",
      "MAE: 6.603334472401556, RMSE: 6.603334472401556, MAPE: 0.08980229172536838\n",
      "mat_path:  P035a.mat\n",
      "idx:  66\n",
      "MAE: 38.317466482567085, RMSE: 38.317466482567085, MAPE: 0.3146500863364152\n",
      "mat_path:  P035b.mat\n",
      "idx:  67\n",
      "MAE: 59.97345402829629, RMSE: 59.97345402829629, MAPE: 0.44482798199262874\n",
      "mat_path:  P038a.mat\n",
      "idx:  72\n",
      "MAE: 12.9609722169237, RMSE: 12.9609722169237, MAPE: 0.32430853726995484\n",
      "mat_path:  P038b.mat\n",
      "idx:  73\n",
      "MAE: 6.180257510729611, RMSE: 6.180257510729611, MAPE: 0.15384615384615377\n",
      "mat_path:  P044a.mat\n",
      "idx:  84\n",
      "MAE: 12.31685537426526, RMSE: 12.31685537426526, MAPE: 0.1455515941316286\n",
      "mat_path:  P046a.mat\n",
      "idx:  88\n",
      "MAE: 6.052004969567406, RMSE: 6.052004969567406, MAPE: 0.10434905393956499\n",
      "mat_path:  P047a.mat\n",
      "idx:  90\n",
      "MAE: 42.55361747478355, RMSE: 42.55361747478355, MAPE: 0.7707370737073709\n",
      "mat_path:  P047b.mat\n",
      "idx:  91\n",
      "MAE: 20.88136403882124, RMSE: 20.88136403882124, MAPE: 0.3672882781828379\n",
      "mat_path:  P048a.mat\n",
      "idx:  92\n",
      "MAE: 21.630256827846672, RMSE: 21.630256827846672, MAPE: 0.30573201176557835\n",
      "mat_path:  P048b.mat\n",
      "idx:  93\n",
      "MAE: 51.47467633832126, RMSE: 51.47467633832126, MAPE: 0.7373063543146018\n",
      "mat_path:  P051a.mat\n",
      "idx:  98\n",
      "MAE: 31.550141762721843, RMSE: 31.550141762721843, MAPE: 0.8152759585615623\n",
      "mat_path:  P051b.mat\n",
      "idx:  99\n",
      "MAE: 13.422716224993323, RMSE: 13.422716224993323, MAPE: 0.22724423082664136\n",
      "mat_path:  P055a.mat\n",
      "idx:  106\n",
      "MAE: 25.394751156955095, RMSE: 25.394751156955095, MAPE: 0.28625207191125834\n",
      "mat_path:  P055b.mat\n",
      "idx:  107\n",
      "MAE: 55.28953229398664, RMSE: 55.28953229398664, MAPE: 0.42435897435897435\n",
      "mat_path:  P064a.mat\n",
      "idx:  124\n",
      "MAE: 56.428947911981055, RMSE: 56.428947911981055, MAPE: 0.44610715875741636\n",
      "mat_path:  P064b.mat\n",
      "idx:  125\n",
      "MAE: 55.678642816349836, RMSE: 55.678642816349836, MAPE: 0.4470256627549234\n",
      "mat_path:  P065b.mat\n",
      "idx:  127\n",
      "MAE: 8.980320831184564, RMSE: 8.980320831184564, MAPE: 0.1485727278756241\n",
      "mat_path:  P068a.mat\n",
      "idx:  132\n",
      "MAE: 5.1121840386253865, RMSE: 5.1121840386253865, MAPE: 0.0793650793650793\n",
      "mat_path:  P068b.mat\n",
      "idx:  133\n",
      "MAE: 36.21929024651742, RMSE: 36.21929024651742, MAPE: 0.3634124071872792\n"
     ]
    }
   ],
   "source": [
    "# all_mat_path = [all_mat_path[2]]\n",
    "finger_hr_all = []\n",
    "face_hr_all = []\n",
    "window_size = 60\n",
    "for idx, mat_path in enumerate(all_mat_path):\n",
    "    mat = scipy.io.loadmat(mat_path)\n",
    "    face_ppg = mat['ppg_face'][0]\n",
    "    finger_ppg = 1 - mat['ppg'][0]\n",
    "    ecg = mat['ekg'][0]\n",
    "    finger_hr, face_hr, ecg_hr = calcuate_window_ibi(finger_ppg, face_ppg, ecg, window_size=window_size, fs=60)\n",
    "    mae, rmse, mape = metrics_calculation(ecg_hr, finger_hr)\n",
    "#     mae, rmse, mape = metrics_calculation(ecg_hr, finger_hr)\n",
    "#     finger_hr_all.extend(finger_hr)\n",
    "#     face_hr_all.extend(face_hr)\n",
    "    if mae > 5:\n",
    "        print('mat_path: ', os.path.basename(mat_path))\n",
    "        print('idx: ', idx)\n",
    "        print(f'MAE: {mae}, RMSE: {rmse}, MAPE: {mape}')\n",
    "# finger_hr_all, face_hr_all = np.array(finger_hr_all), np.array(face_hr_all)\n",
    "# np.save(f'./finger_hr_all_ws_{str(window_size)}.npy', finger_hr_all)\n",
    "# np.save(f'./face_hr_all_ws_{str(window_size)}.npy', face_hr_all)"
   ]
  },
  {
   "cell_type": "code",
   "execution_count": null,
   "id": "f6643d50",
   "metadata": {},
   "outputs": [],
   "source": []
  }
 ],
 "metadata": {
  "kernelspec": {
   "display_name": "rppg_clinical",
   "language": "python",
   "name": "rppg_clinical"
  },
  "language_info": {
   "codemirror_mode": {
    "name": "ipython",
    "version": 3
   },
   "file_extension": ".py",
   "mimetype": "text/x-python",
   "name": "python",
   "nbconvert_exporter": "python",
   "pygments_lexer": "ipython3",
   "version": "3.7.13"
  }
 },
 "nbformat": 4,
 "nbformat_minor": 5
}
