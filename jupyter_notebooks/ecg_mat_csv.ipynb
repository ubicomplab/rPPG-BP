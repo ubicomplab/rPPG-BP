{
 "cells": [
  {
   "cell_type": "code",
   "execution_count": 9,
   "metadata": {},
   "outputs": [],
   "source": [
    "import csv \n",
    "import numpy as np\n",
    "import glob\n",
    "import scipy.io\n",
    "import pandas\n",
    "import os\n",
    "from matplotlib import pyplot as plt"
   ]
  },
  {
   "cell_type": "code",
   "execution_count": 10,
   "metadata": {},
   "outputs": [],
   "source": [
    "def remove_artifact(ppg):\n",
    "    ppgmean = np.mean(ppg)\n",
    "    ppgstddev = np.std(ppg[:200])\n",
    "    f1 = np.where(ppg > (ppgmean + 4 * ppgstddev))[0]\n",
    "    f2 = np.where(ppg < (ppgmean - 4 * ppgstddev))[0]\n",
    "    f = np.array(np.union1d(f1, f2))\n",
    "    replace_value = np.array([ppgmean]*f.shape[0])\n",
    "    np.put(ppg, f, replace_value)\n",
    "    return ppg\n",
    "\n",
    "def normalize_ppg(ppg):\n",
    "    ppg = ppg - np.min(ppg)\n",
    "    ppg = ppg / np.max(ppg)\n",
    "    return ppg"
   ]
  },
  {
   "cell_type": "code",
   "execution_count": 11,
   "metadata": {},
   "outputs": [],
   "source": [
    "mat_paths = sorted(glob.glob('../ProcessedDataNoVideo/*.mat'))\n",
    "for mat_path in mat_paths:\n",
    "    mat = scipy.io.loadmat(mat_path)\n",
    "    basename = os.path.basename(mat_path).split('.')[0]\n",
    "    ecg = mat['ekg'][0]\n",
    "    ecg = normalize_ppg(remove_artifact(ecg))    \n",
    "    ecg_indices = np.array(range(ecg.shape[0]))\n",
    "    my_dict = {'timestamp': ecg_indices.tolist(), 'ecg_measurement': ecg.tolist()}\n",
    "    with open(f'../ProcessedDataNoVideoCSV_v2/{basename}.csv', 'w') as outfile:\n",
    "        writer = csv.writer(outfile)\n",
    "        writer.writerow(my_dict.keys())\n",
    "        writer.writerows(zip(*my_dict.values()))"
   ]
  },
  {
   "cell_type": "code",
   "execution_count": 12,
   "metadata": {},
   "outputs": [],
   "source": [
    "# bad subject\n",
    "# 13\n",
    "# 32\n",
    "# 38\n",
    "# 55\n",
    "# 64\n",
    "# 68\n"
   ]
  }
 ],
 "metadata": {
  "kernelspec": {
   "display_name": "Python(TF)",
   "language": "python",
   "name": "tf"
  },
  "language_info": {
   "codemirror_mode": {
    "name": "ipython",
    "version": 3
   },
   "file_extension": ".py",
   "mimetype": "text/x-python",
   "name": "python",
   "nbconvert_exporter": "python",
   "pygments_lexer": "ipython3",
   "version": "3.6.12"
  }
 },
 "nbformat": 4,
 "nbformat_minor": 4
}
