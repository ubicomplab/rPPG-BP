{
 "cells": [
  {
   "cell_type": "code",
   "execution_count": 15,
   "metadata": {},
   "outputs": [],
   "source": [
    "import csv \n",
    "import numpy as np\n",
    "import glob\n",
    "import scipy.io\n",
    "import pandas\n",
    "import os"
   ]
  },
  {
   "cell_type": "code",
   "execution_count": 16,
   "metadata": {},
   "outputs": [],
   "source": [
    "mat_paths = sorted(glob.glob('./ProcessedDataNoVideo/*.mat'))\n",
    "for mat_path in mat_paths:\n",
    "    mat = scipy.io.loadmat(mat_path)\n",
    "    basename = os.path.basename(mat_path).split('.')[0]\n",
    "    ecg = mat['ekg'][0]\n",
    "    ecg_indices = np.array(range(ecg.shape[0]))\n",
    "    my_dict = {'timestamp': ecg_indices.tolist(), 'ecg_measurement': ecg.tolist()}\n",
    "    with open(f'./ProcessedDataNoVideoCSV/{basename}.csv', 'w') as outfile:\n",
    "        writer = csv.writer(outfile)\n",
    "        writer.writerow(my_dict.keys())\n",
    "        writer.writerows(zip(*my_dict.values()))"
   ]
  },
  {
   "cell_type": "code",
   "execution_count": null,
   "metadata": {},
   "outputs": [],
   "source": [
    "# bad subject\n",
    "13\n",
    "32\n",
    "38\n",
    "55\n",
    "64\n",
    "68\n"
   ]
  }
 ],
 "metadata": {
  "kernelspec": {
   "display_name": "Python(TF)",
   "language": "python",
   "name": "tf"
  },
  "language_info": {
   "codemirror_mode": {
    "name": "ipython",
    "version": 3
   },
   "file_extension": ".py",
   "mimetype": "text/x-python",
   "name": "python",
   "nbconvert_exporter": "python",
   "pygments_lexer": "ipython3",
   "version": "3.6.12"
  }
 },
 "nbformat": 4,
 "nbformat_minor": 4
}
