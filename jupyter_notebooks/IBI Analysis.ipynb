{
 "cells": [
  {
   "cell_type": "code",
   "execution_count": 159,
   "metadata": {},
   "outputs": [],
   "source": [
    "import scipy.io\n",
    "import numpy as np\n",
    "from matplotlib import pyplot as plt\n",
    "import glob\n",
    "from scipy.signal import butter\n",
    "import scipy\n",
    "from hrvanalysis import remove_outliers, remove_ectopic_beats, interpolate_nan_values\n",
    "from scipy import stats\n",
    "import os\n",
    "from scipy.sparse import spdiags\n",
    "import pandas as pd\n",
    "FS = 60"
   ]
  },
  {
   "cell_type": "markdown",
   "metadata": {},
   "source": [
    "## FFT Heart Rate"
   ]
  },
  {
   "cell_type": "code",
   "execution_count": 160,
   "metadata": {},
   "outputs": [],
   "source": [
    "def next_power_of_2(x):\n",
    "    return 1 if x == 0 else 2**(x - 1).bit_length()\n",
    "\n",
    "def calculate_fft_hr(ppg_signal, fs=60):\n",
    "    ppg_signal = np.expand_dims(ppg_signal, 0)\n",
    "    N = next_power_of_2(ppg_signal.shape[1])\n",
    "    f_ppg, pxx_ppg = scipy.signal.periodogram(ppg_signal, fs=fs, nfft=N, detrend=False)\n",
    "    fmask_ppg = np.argwhere((f_ppg >= 0.75) & (f_ppg <= 2.5))\n",
    "    mask_ppg = np.take(f_ppg, fmask_ppg)\n",
    "    mask_pxx = np.take(pxx_ppg, fmask_ppg)\n",
    "    fft_hr = np.take(mask_ppg, np.argmax(mask_pxx, 0))[0] * 60\n",
    "    return fft_hr, mask_ppg, mask_pxx\n"
   ]
  },
  {
   "cell_type": "markdown",
   "metadata": {},
   "source": [
    "### Detrend signal"
   ]
  },
  {
   "cell_type": "code",
   "execution_count": 161,
   "metadata": {},
   "outputs": [],
   "source": [
    "def detrend(signal, Lambda):\n",
    "    signal_length = signal.shape[0]\n",
    "    # observation matrix\n",
    "    H = np.identity(signal_length)\n",
    "    # second-order difference matrix\n",
    "    ones = np.ones(signal_length)\n",
    "    minus_twos = -2 * np.ones(signal_length)\n",
    "    diags_data = np.array([ones, minus_twos, ones])\n",
    "    diags_index = np.array([0, 1, 2])\n",
    "    D = spdiags(diags_data, diags_index, (signal_length - 2), signal_length).toarray()\n",
    "    filtered_signal = np.dot((H - np.linalg.inv(H + (Lambda ** 2) * np.dot(D.T, D))), signal)\n",
    "    return filtered_signal\n"
   ]
  },
  {
   "cell_type": "markdown",
   "metadata": {},
   "source": [
    "### Remove artifacts"
   ]
  },
  {
   "cell_type": "code",
   "execution_count": 162,
   "metadata": {},
   "outputs": [],
   "source": [
    "def remove_artifact(ppg):\n",
    "    ppgmean = np.mean(ppg)\n",
    "    ppgstddev = np.std(ppg[:200])\n",
    "    f1 = np.where(ppg > (ppgmean + 4 * ppgstddev))[0]\n",
    "    f2 = np.where(ppg < (ppgmean - 4 * ppgstddev))[0]\n",
    "    f = np.array(np.union1d(f1, f2))\n",
    "    replace_value = np.array([ppgmean]*f.shape[0])\n",
    "    np.put(ppg, f, replace_value)\n",
    "    return ppg"
   ]
  },
  {
   "cell_type": "markdown",
   "metadata": {},
   "source": [
    "### Filter"
   ]
  },
  {
   "cell_type": "code",
   "execution_count": 163,
   "metadata": {},
   "outputs": [],
   "source": [
    "def filter_ppg(ppg, fs=60, lpf=0.4, hpf=2.5):    \n",
    "    [b_pulse, a_pulse] = butter(1, [lpf / fs * 2, hpf / fs * 2], btype='bandpass')\n",
    "    return scipy.signal.filtfilt(b_pulse, a_pulse, np.double(ppg))"
   ]
  },
  {
   "cell_type": "markdown",
   "metadata": {},
   "source": [
    "## Normalization"
   ]
  },
  {
   "cell_type": "code",
   "execution_count": 164,
   "metadata": {},
   "outputs": [],
   "source": [
    "def normalize_ppg(ppg):\n",
    "    ppg = ppg - np.min(ppg)\n",
    "    ppg = ppg / np.max(ppg)\n",
    "    return ppg"
   ]
  },
  {
   "cell_type": "markdown",
   "metadata": {},
   "source": [
    "### Find peaks"
   ]
  },
  {
   "cell_type": "code",
   "execution_count": 165,
   "metadata": {},
   "outputs": [],
   "source": [
    "def find_peaks(ppg, height=0.6):\n",
    "    peaks, _ = scipy.signal.find_peaks(ppg, height=height, distance=20)\n",
    "    return peaks\n",
    "\n",
    "\n",
    "def load_ecg_peaks(csv_path):\n",
    "    df = pd.read_csv(csv_path)\n",
    "    qrs = np.array(df['qrs_detected'].tolist()).astype(np.int)\n",
    "    qrs_indices = np.where(qrs == 1) \n",
    "    return qrs_indices\n",
    "\n",
    "\n",
    "def load_ecg_qrs(csv_path):\n",
    "    df = pd.read_csv(csv_path)\n",
    "    qrs = np.array(df['qrs_detected'].tolist()).astype(np.int)\n",
    "    return qrs\n"
   ]
  },
  {
   "cell_type": "markdown",
   "metadata": {},
   "source": [
    "### Remove ectopic beats"
   ]
  },
  {
   "cell_type": "code",
   "execution_count": 166,
   "metadata": {},
   "outputs": [],
   "source": [
    "def remove_ectopic(ppg_peaks):\n",
    "    rr_intervals_list = np.diff(ppg_peaks)\n",
    "    # # This remove ectopic beats from signal\n",
    "    nn_intervals_list = remove_ectopic_beats(rr_intervals=rr_intervals_list, method=\"malik\")\n",
    "    # This replace ectopic beats nan values with linear interpolation\n",
    "    interpolated_nn_intervals = interpolate_nan_values(rr_intervals=nn_intervals_list)\n",
    "    return np.cumsum(interpolated_nn_intervals).astype(np.int)"
   ]
  },
  {
   "cell_type": "markdown",
   "metadata": {},
   "source": [
    "## Plot func"
   ]
  },
  {
   "cell_type": "code",
   "execution_count": 167,
   "metadata": {},
   "outputs": [],
   "source": [
    "def plot_peaks(test_face_ppg, test_ppg, test_ecg, peaks_face_ppg, peaks_ppg, peaks_ecg):\n",
    "    plt.figure(figsize=(15, 6), dpi=80)\n",
    "    plt.plot(test_face_ppg)\n",
    "    plt.plot(peaks_face_ppg, test_face_ppg[peaks_face_ppg], \"x\")\n",
    "    plt.title('Face')\n",
    "    plt.show()\n",
    "\n",
    "    plt.figure(figsize=(15, 6), dpi=80)\n",
    "    plt.plot(test_ppg)\n",
    "    plt.plot(peaks_ppg, test_ppg[peaks_ppg], \"x\")\n",
    "    plt.title('Finger')\n",
    "    plt.show()\n",
    "    plt.figure(figsize=(15, 6), dpi=80)\n",
    "    plt.plot(test_ecg)\n",
    "    plt.plot(peaks_ecg, test_ecg[peaks_ecg], \"x\")\n",
    "    plt.title('ECG')\n",
    "    plt.show()\n",
    "\n",
    "def plot_signal(test_face_ppg, test_ppg, test_ecg, finger_hr_fft, face_hr_fft, ecg_hr_fft, \n",
    "                ecg_peaks, subj_name, peak_plot=True):\n",
    "    ecg_peaks = np.asarray(ecg_peaks)    \n",
    "    plt.figure(figsize=(15, 6), dpi=80)\n",
    "    plt.plot(test_face_ppg)\n",
    "    plt.title('Face: ' + str(face_hr_fft) + ' Sub: ' + subj_name)\n",
    "    plt.show()\n",
    "\n",
    "    plt.figure(figsize=(15, 6), dpi=80)\n",
    "    plt.plot(test_ppg)\n",
    "    plt.title('Finger: ' + str(finger_hr_fft) + ' Sub: ' + subj_name)\n",
    "    plt.show()\n",
    "\n",
    "    plt.figure(figsize=(15, 6), dpi=80)\n",
    "    plt.plot(test_ecg)\n",
    "    if peak_plot:\n",
    "        plt.plot(ecg_peaks, test_ecg[ecg_peaks], \"x\", color='r')\n",
    "    plt.title('ECG: ' + str(ecg_hr_fft) + ' Sub: ' + subj_name)\n",
    "    plt.show()\n",
    "\n",
    "def plot_fft(mask_ppg, mask_pxx, title):\n",
    "    plt.plot(mask_ppg, np.reshape(mask_pxx, [-1, 1]))\n",
    "    plt.title(f'{title} FFT')\n",
    "    plt.show()\n"
   ]
  },
  {
   "cell_type": "markdown",
   "metadata": {},
   "source": [
    "### Calculate IBI"
   ]
  },
  {
   "cell_type": "code",
   "execution_count": 168,
   "metadata": {},
   "outputs": [
    {
     "data": {
      "text/plain": [
       "'\\n1. detrend the finger ppg. \\n2. filter and clean the finger ppg.\\n3. calculate ecg hr vs. finger ppg hr vs. face hr.\\n4. sync video using rr-interval. Max deday should be around 10s. \\n'"
      ]
     },
     "execution_count": 168,
     "metadata": {},
     "output_type": "execute_result"
    }
   ],
   "source": [
    "'''\n",
    "1. detrend the finger ppg. \n",
    "2. filter and clean the finger ppg.\n",
    "3. calculate ecg hr vs. finger ppg hr vs. face hr.\n",
    "4. sync video using rr-interval. Max deday should be around 10s. \n",
    "'''"
   ]
  },
  {
   "cell_type": "code",
   "execution_count": 169,
   "metadata": {},
   "outputs": [],
   "source": [
    "def calcuate_window_ibi(finger_ppg, face_ppg, ecg, window_size=5, fs=60):\n",
    "#     finger_ppg = detrend(finger_ppg, 100)\n",
    "    face_ppg = normalize_ppg(filter_ppg(remove_artifact(face_ppg)))\n",
    "    finger_ppg = normalize_ppg(filter_ppg(remove_artifact(finger_ppg)))\n",
    "#     ecg = normalize_ppg(ecg)\n",
    "    finger_hr = []\n",
    "    face_hr = []\n",
    "    ecg_hr = []\n",
    "    for idx in range(0, len(finger_ppg)-fs*window_size, fs*window_size):\n",
    "        window_finger_ppg = finger_ppg[idx:idx + fs * window_size]\n",
    "        window_face_ppg = face_ppg[idx:idx + fs * window_size]\n",
    "        window_ecg = ecg[idx:idx + fs * window_size]\n",
    "        window_peaks_finger_ppg = find_peaks(window_finger_ppg)\n",
    "        window_peaks_face_ppg = find_peaks(window_face_ppg)\n",
    "        window_peaks_ecg = ecg_detectors.hamilton_detector(window_ecg)\n",
    "        window_avg_hr_finger = 60 / (np.mean(np.diff(window_peaks_finger_ppg)) / fs)\n",
    "        window_avg_hr_face = 60 / (np.mean(np.diff(window_peaks_face_ppg)) / fs)\n",
    "        window_avg_hr_ecg = 60 / (np.mean(np.diff(window_peaks_ecg)) / fs)\n",
    "        finger_hr.append(window_avg_hr_finger)\n",
    "        face_hr.append(window_avg_hr_face)\n",
    "        ecg_hr.append(window_avg_hr_ecg)\n",
    "#         if abs(window_avg_hr_face - window_avg_hr_ecg) > 5:\n",
    "#             plot_peaks(window_face_ppg, window_finger_ppg, window_ecg, window_peaks_face_ppg, \n",
    "#                        window_peaks_finger_ppg, window_peaks_ecg)\n",
    "#             print('window_avg_hr_face: ', window_avg_hr_face)\n",
    "#             print('window_avg_hr_finger: ', window_avg_hr_finger)\n",
    "#             print('window_avg_hr_ecg: ', window_avg_hr_ecg)\n",
    "    return finger_hr, face_hr, ecg_hr\n",
    "\n",
    "\n",
    "def calcuate_window_ibi_fft(finger_ppg, face_ppg, ecg, qrs_peaks, subj_name, window_size=5, fs=60):\n",
    "#     finger_ppg = detrend(finger_ppg, 100)\n",
    "    face_ppg = normalize_ppg(filter_ppg(remove_artifact(face_ppg)))\n",
    "    finger_ppg = normalize_ppg(filter_ppg(remove_artifact(finger_ppg)))\n",
    "    ecg = normalize_ppg(ecg)\n",
    "    finger_hr = []\n",
    "    face_hr = []\n",
    "    ecg_hr = []\n",
    "    for idx in range(0, len(finger_ppg), fs*window_size):\n",
    "        window_finger_ppg = finger_ppg[idx:idx + fs * window_size]\n",
    "        window_face_ppg = face_ppg[idx:idx + fs * window_size]\n",
    "        window_ecg = ecg[idx:idx + fs * window_size]\n",
    "        window_avg_hr_finger, _, _ = calculate_fft_hr(window_finger_ppg, fs=60)\n",
    "        window_avg_hr_face, _, _ = calculate_fft_hr(window_face_ppg, fs=60)\n",
    "        window_ecg_qrs = qrs_peaks[idx:idx + fs * window_size]\n",
    "        window_ecg_qrs = np.where(window_ecg_qrs == 1) \n",
    "        window_avg_hr_ecg = 60 / (np.mean(np.diff(window_ecg_qrs)) / fs)\n",
    "        finger_hr.append(window_avg_hr_finger)\n",
    "        face_hr.append(window_avg_hr_face)\n",
    "        ecg_hr.append(window_avg_hr_ecg)\n",
    "#         if abs(window_avg_hr_face - window_avg_hr_ecg) > 10:\n",
    "#             plot_signal(window_face_ppg, window_finger_ppg, window_ecg, \n",
    "#                         window_avg_hr_finger, window_avg_hr_face, window_avg_hr_ecg, \n",
    "#                         window_ecg_qrs, subj_name, peak_plot=True)\n",
    "    return finger_hr, face_hr, ecg_hr\n",
    "\n",
    "\n",
    "def metrics_calculation(gt_hr, est_hr):\n",
    "    gt_hr, est_hr = np.array(gt_hr), np.array(est_hr)\n",
    "    mae = np.mean(np.abs(gt_hr - est_hr))\n",
    "    rmse = np.sqrt(np.mean((gt_hr - est_hr)**2))\n",
    "    mape = np.mean(np.abs(gt_hr - est_hr) / gt_hr)\n",
    "    return mae, rmse, mape"
   ]
  },
  {
   "cell_type": "code",
   "execution_count": 170,
   "metadata": {
    "scrolled": false
   },
   "outputs": [
    {
     "name": "stdout",
     "output_type": "stream",
     "text": [
      "Window size:  10\n",
      "Window size:  15\n",
      "Window size:  30\n",
      "Window size:  60\n"
     ]
    }
   ],
   "source": [
    "all_mat_path = sorted(glob.glob(\"../ProcessedDataNoVideo/*.mat\"))\n",
    "# bad_subject = ['P032a', 'P032b', 'P038a', 'P038b', 'P055a', 'P055b', 'P068a', 'P068b']\n",
    "bad_subject = ['P038a', 'P038b', 'P068a', 'P068b']\n",
    "ecg_peak_version = 'v2'\n",
    "window_size_all = [10, 15, 30, 60]\n",
    "# window_size_all = [30]\n",
    "\n",
    "for window_size in window_size_all:\n",
    "    print('Window size: ', window_size)\n",
    "    finger_hr_all = []\n",
    "    face_hr_all = []\n",
    "    for idx, mat_path in enumerate(all_mat_path):\n",
    "        subj_name = os.path.basename(mat_path).split('.')[0]\n",
    "        if subj_name in bad_subject:\n",
    "            continue\n",
    "        mat = scipy.io.loadmat(mat_path)\n",
    "        face_ppg = mat['ppg_face'][0]\n",
    "        finger_ppg = 1 - mat['ppg'][0] \n",
    "        ecg = mat['ekg'][0]\n",
    "        csv_path = f\"../ecg_detection/ecg_peaks_{ecg_peak_version}/{subj_name}.csv\"\n",
    "        qrs_peaks = load_ecg_peaks(csv_path)\n",
    "        qrs = load_ecg_qrs(csv_path)\n",
    "    #     finger_hr, face_hr, ecg_hr = calcuate_window_ibi(finger_ppg, face_ppg, ecg, window_size=window_size, fs=60)\n",
    "    #     finger_hr, face_hr, ecg_hr = calcuate_video_hr_fft(finger_ppg, face_ppg, ecg, qrs_peaks, subj_name, fs=60)    \n",
    "        finger_hr, face_hr, ecg_hr = calcuate_window_ibi_fft(finger_ppg, face_ppg, ecg, qrs, subj_name, \n",
    "                                                             window_size=window_size, fs=60)    \n",
    "\n",
    "        mae, rmse, mape = metrics_calculation(finger_hr, face_hr)\n",
    "        finger_hr_all.extend(finger_hr)\n",
    "        face_hr_all.extend(face_hr)\n",
    "    finger_hr_all, face_hr_all = np.array(finger_hr_all), np.array(face_hr_all)\n",
    "    np.save(f'../results/finger_hr_all_ws_{str(window_size)}.npy', finger_hr_all)\n",
    "    np.save(f'../results/face_hr_all_ws_{str(window_size)}.npy', face_hr_all)"
   ]
  },
  {
   "cell_type": "markdown",
   "metadata": {},
   "source": [
    "### Test"
   ]
  },
  {
   "cell_type": "code",
   "execution_count": 171,
   "metadata": {},
   "outputs": [],
   "source": [
    "# all_mat_path = sorted(glob.glob(\"./ProcessedDataNoVideo/*.mat\"))\n",
    "# mat = scipy.io.loadmat(all_mat_path[12])\n",
    "# test_face_ppg = mat['ppg_face'][0]\n",
    "# test_ppg = 1 - mat['ppg'][0]\n",
    "# test_ppg = detrend(test_ppg, 100)\n",
    "# test_ecg = mat['ekg'][0]\n",
    "# cutoff = 3000\n",
    "# test_face_ppg = normalize_ppg(filter_ppg(remove_artifact(test_face_ppg)))[:cutoff]\n",
    "# test_ppg = normalize_ppg(filter_ppg(remove_artifact(test_ppg)))[:cutoff]\n",
    "# test_ecg = normalize_ppg(test_ecg[:cutoff])\n",
    "# peaks_face_ppg = find_peaks(test_face_ppg)\n",
    "# peaks_ppg = find_peaks(test_ppg)\n",
    "# # peaks_ecg = find_peaks(test_ecg)\n",
    "# ecg_detector = QRSDetectorOffline(test_ecg, fs=60, \n",
    "#                                   integration_window=int((15/250)*60), \n",
    "#                                   refractory_period=int((120/250)*60), \n",
    "#                                   findpeaks_spacing=int((50/250)*60))\n",
    "# peaks_ecg = ecg_detector.detect_qrs()\n",
    "# print(peaks_ecg)\n",
    "# plot_peaks(test_face_ppg, test_ppg, test_ecg, peaks_face_ppg, peaks_ppg, peaks_ecg)\n",
    "# raise"
   ]
  }
 ],
 "metadata": {
  "kernelspec": {
   "display_name": "Python(TF)",
   "language": "python",
   "name": "tf"
  },
  "language_info": {
   "codemirror_mode": {
    "name": "ipython",
    "version": 3
   },
   "file_extension": ".py",
   "mimetype": "text/x-python",
   "name": "python",
   "nbconvert_exporter": "python",
   "pygments_lexer": "ipython3",
   "version": "3.6.12"
  }
 },
 "nbformat": 4,
 "nbformat_minor": 5
}
