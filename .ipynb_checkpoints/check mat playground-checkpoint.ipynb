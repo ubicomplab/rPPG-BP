{
 "cells": [
  {
   "cell_type": "code",
   "execution_count": 2,
   "id": "f142e1e6",
   "metadata": {},
   "outputs": [],
   "source": [
    "import scipy.io\n",
    "import numpy as np\n",
    "from matplotlib import pyplot as plt\n",
    "import glob"
   ]
  },
  {
   "cell_type": "code",
   "execution_count": 3,
   "id": "1bd45960",
   "metadata": {},
   "outputs": [
    {
     "name": "stdout",
     "output_type": "stream",
     "text": [
      "['D:\\\\OneDrive - UW\\\\rPPG Clinical Study\\\\UW Medicine Data\\\\ProcessedDataNoVideo\\\\P001b.mat', 'D:\\\\OneDrive - UW\\\\rPPG Clinical Study\\\\UW Medicine Data\\\\ProcessedDataNoVideo\\\\P001c.mat', 'D:\\\\OneDrive - UW\\\\rPPG Clinical Study\\\\UW Medicine Data\\\\ProcessedDataNoVideo\\\\P002a.mat', 'D:\\\\OneDrive - UW\\\\rPPG Clinical Study\\\\UW Medicine Data\\\\ProcessedDataNoVideo\\\\P002b.mat', 'D:\\\\OneDrive - UW\\\\rPPG Clinical Study\\\\UW Medicine Data\\\\ProcessedDataNoVideo\\\\P003a.mat', 'D:\\\\OneDrive - UW\\\\rPPG Clinical Study\\\\UW Medicine Data\\\\ProcessedDataNoVideo\\\\P003b.mat']\n"
     ]
    }
   ],
   "source": [
    "onedrive_path = r'D:\\OneDrive - UW\\rPPG Clinical Study\\UW Medicine Data'\n",
    "all_mat_path = sorted(glob.glob(onedrive_path + \"\\ProcessedDataNoVideo\\*.mat\"))\n",
    "print(all_mat_path)"
   ]
  },
  {
   "cell_type": "code",
   "execution_count": 6,
   "id": "c29c7e06",
   "metadata": {},
   "outputs": [
    {
     "name": "stdout",
     "output_type": "stream",
     "text": [
      "(7200,)\n",
      "(7200,)\n",
      "(7200,)\n",
      "(7200,)\n",
      "(7200,)\n",
      "(7200,)\n",
      "(7200,)\n",
      "(7200,)\n",
      "(7200,)\n",
      "(7200,)\n",
      "(7200,)\n",
      "(7200,)\n",
      "(7200,)\n",
      "(7200,)\n",
      "(7200,)\n",
      "(7200,)\n",
      "(7200,)\n",
      "(7200,)\n",
      "(7200,)\n",
      "(7200,)\n",
      "(7200,)\n",
      "(7200,)\n",
      "(7200,)\n",
      "(7200,)\n",
      "(7200,)\n",
      "(7200,)\n",
      "(7200,)\n",
      "(7200,)\n",
      "(7200,)\n",
      "(7200,)\n"
     ]
    }
   ],
   "source": [
    "for mat_path in all_mat_path:\n",
    "    mdic = scipy.io.loadmat(mat_path)\n",
    "    ppg_face = mdic['ppg_face'][0]\n",
    "    ppg_palm = mdic['ppg_palm'][0]\n",
    "    gt_ppg = mdic['ppg'][0]\n",
    "    gt_ekg = mdic['ekg'][0]\n",
    "    gt_resp = mdic['resp'][0]\n",
    "    \n",
    "    plt.figure(figsize=(24, 10), dpi=100)\n",
    "    plt.subplot(211)\n",
    "    plt.plot(ppg_face[:3000]) # Just plot first 30 seconds signal\n",
    "    plt.plot(ppg_palm[:3000])\n",
    "    plt.legend(['Face PPG', 'Palm PPG'])\n",
    "    plt.title(f\"Subject: {video_basename}; Face HR: {face_hr}; Palm HR: {palm_hr}\")\n",
    "    plt.subplot(212)\n",
    "    plt.plot(gt_ppg[:3000])\n",
    "    plt.plot(gt_ekg[:3000])\n",
    "    plt.legend(['GT-PPG', 'GT-EKG'])\n",
    "    \n",
    "    \n"
   ]
  },
  {
   "cell_type": "code",
   "execution_count": null,
   "id": "14a58263",
   "metadata": {},
   "outputs": [],
   "source": []
  }
 ],
 "metadata": {
  "kernelspec": {
   "display_name": "rppg_clinical",
   "language": "python",
   "name": "rppg_clinical"
  },
  "language_info": {
   "codemirror_mode": {
    "name": "ipython",
    "version": 3
   },
   "file_extension": ".py",
   "mimetype": "text/x-python",
   "name": "python",
   "nbconvert_exporter": "python",
   "pygments_lexer": "ipython3",
   "version": "3.7.13"
  }
 },
 "nbformat": 4,
 "nbformat_minor": 5
}
